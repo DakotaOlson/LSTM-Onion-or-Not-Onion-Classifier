{
 "cells": [
  {
   "cell_type": "markdown",
   "metadata": {},
   "source": [
    "# Introductions\n",
    "This is a model for classifying headlines if they're onion articles (satire) or real articles (taken from the subreddit r/NotTheOnion). This is also my first time working with some of these tools as I've yet to take a formal machine learning course, so much of the credit goes to the original data source author as well as few kaggle kernels I used as reference. This is NOT a copy paste of any of them, but combines and extends what has already been created.\n",
    "\n",
    "Data Source: https://github.com/lukefeilberg/onion/tree/f5643ffb7619ec80e51dac6b32ea17bbdc0fc8de"
   ]
  },
  {
   "cell_type": "markdown",
   "metadata": {},
   "source": [
    " # Part 0: Load Data"
   ]
  },
  {
   "cell_type": "code",
   "execution_count": 1,
   "metadata": {},
   "outputs": [
    {
     "name": "stderr",
     "output_type": "stream",
     "text": [
      "Using TensorFlow backend.\n"
     ]
    }
   ],
   "source": [
    "import pandas as pd\n",
    "import numpy as np\n",
    "import matplotlib.pyplot as plt\n",
    "import seaborn as sns\n",
    "import re\n",
    "import nltk\n",
    "\n",
    "from keras.models import Sequential, Model\n",
    "from keras.layers import Input,Dense, LSTM, Dropout, Flatten, Embedding, Bidirectional, GlobalMaxPool1D\n",
    "from keras.preprocessing.text import Tokenizer\n",
    "from keras.preprocessing import sequence\n",
    "from sklearn.model_selection import train_test_split\n",
    "\n",
    "data = pd.read_csv('OnionOrNot.csv')"
   ]
  },
  {
   "cell_type": "markdown",
   "metadata": {},
   "source": [
    " # Part 1: Data Sample"
   ]
  },
  {
   "cell_type": "code",
   "execution_count": 2,
   "metadata": {},
   "outputs": [
    {
     "data": {
      "text/html": [
       "<div>\n",
       "<style scoped>\n",
       "    .dataframe tbody tr th:only-of-type {\n",
       "        vertical-align: middle;\n",
       "    }\n",
       "\n",
       "    .dataframe tbody tr th {\n",
       "        vertical-align: top;\n",
       "    }\n",
       "\n",
       "    .dataframe thead th {\n",
       "        text-align: right;\n",
       "    }\n",
       "</style>\n",
       "<table border=\"1\" class=\"dataframe\">\n",
       "  <thead>\n",
       "    <tr style=\"text-align: right;\">\n",
       "      <th></th>\n",
       "      <th>text</th>\n",
       "      <th>label</th>\n",
       "    </tr>\n",
       "  </thead>\n",
       "  <tbody>\n",
       "    <tr>\n",
       "      <td>0</td>\n",
       "      <td>Entire Facebook Staff Laughs As Man Tightens P...</td>\n",
       "      <td>1</td>\n",
       "    </tr>\n",
       "    <tr>\n",
       "      <td>1</td>\n",
       "      <td>Muslim Woman Denied Soda Can for Fear She Coul...</td>\n",
       "      <td>0</td>\n",
       "    </tr>\n",
       "    <tr>\n",
       "      <td>2</td>\n",
       "      <td>Bold Move: Hulu Has Announced That They’re Gon...</td>\n",
       "      <td>1</td>\n",
       "    </tr>\n",
       "    <tr>\n",
       "      <td>3</td>\n",
       "      <td>Despondent Jeff Bezos Realizes He’ll Have To W...</td>\n",
       "      <td>1</td>\n",
       "    </tr>\n",
       "    <tr>\n",
       "      <td>4</td>\n",
       "      <td>For men looking for great single women, online...</td>\n",
       "      <td>1</td>\n",
       "    </tr>\n",
       "    <tr>\n",
       "      <td>...</td>\n",
       "      <td>...</td>\n",
       "      <td>...</td>\n",
       "    </tr>\n",
       "    <tr>\n",
       "      <td>23995</td>\n",
       "      <td>Teen Pregnancy Rate Prompting More High School...</td>\n",
       "      <td>1</td>\n",
       "    </tr>\n",
       "    <tr>\n",
       "      <td>23996</td>\n",
       "      <td>Connecticut TV station under fire after using ...</td>\n",
       "      <td>0</td>\n",
       "    </tr>\n",
       "    <tr>\n",
       "      <td>23997</td>\n",
       "      <td>Jurisprudence Fetishist Gets Off On Technicality</td>\n",
       "      <td>1</td>\n",
       "    </tr>\n",
       "    <tr>\n",
       "      <td>23998</td>\n",
       "      <td>Employees From Other Department Announce Plan ...</td>\n",
       "      <td>1</td>\n",
       "    </tr>\n",
       "    <tr>\n",
       "      <td>23999</td>\n",
       "      <td>Police drone crashes into police SWAT team</td>\n",
       "      <td>0</td>\n",
       "    </tr>\n",
       "  </tbody>\n",
       "</table>\n",
       "<p>24000 rows × 2 columns</p>\n",
       "</div>"
      ],
      "text/plain": [
       "                                                    text  label\n",
       "0      Entire Facebook Staff Laughs As Man Tightens P...      1\n",
       "1      Muslim Woman Denied Soda Can for Fear She Coul...      0\n",
       "2      Bold Move: Hulu Has Announced That They’re Gon...      1\n",
       "3      Despondent Jeff Bezos Realizes He’ll Have To W...      1\n",
       "4      For men looking for great single women, online...      1\n",
       "...                                                  ...    ...\n",
       "23995  Teen Pregnancy Rate Prompting More High School...      1\n",
       "23996  Connecticut TV station under fire after using ...      0\n",
       "23997   Jurisprudence Fetishist Gets Off On Technicality      1\n",
       "23998  Employees From Other Department Announce Plan ...      1\n",
       "23999        Police drone crashes into police SWAT team       0\n",
       "\n",
       "[24000 rows x 2 columns]"
      ]
     },
     "execution_count": 2,
     "metadata": {},
     "output_type": "execute_result"
    }
   ],
   "source": [
    "data"
   ]
  },
  {
   "cell_type": "markdown",
   "metadata": {},
   "source": [
    "## Onion Example (1)"
   ]
  },
  {
   "cell_type": "code",
   "execution_count": 3,
   "metadata": {},
   "outputs": [
    {
     "data": {
      "text/plain": [
       "'Entire Facebook Staff Laughs As Man Tightens Privacy Settings'"
      ]
     },
     "metadata": {},
     "output_type": "display_data"
    }
   ],
   "source": [
    "display(data['text'][0])"
   ]
  },
  {
   "cell_type": "markdown",
   "metadata": {},
   "source": [
    "## Not Onion Example (0)"
   ]
  },
  {
   "cell_type": "code",
   "execution_count": 4,
   "metadata": {},
   "outputs": [
    {
     "data": {
      "text/plain": [
       "'Muslim Woman Denied Soda Can for Fear She Could Use It as a Weapon'"
      ]
     },
     "metadata": {},
     "output_type": "display_data"
    }
   ],
   "source": [
    "display(data['text'][1])"
   ]
  },
  {
   "cell_type": "markdown",
   "metadata": {},
   "source": [
    "## Plotting Data"
   ]
  },
  {
   "cell_type": "code",
   "execution_count": 5,
   "metadata": {
    "scrolled": false
   },
   "outputs": [
    {
     "data": {
      "text/plain": [
       "Text(0.5, 0, 'Not Onion (0), Onion (1)')"
      ]
     },
     "execution_count": 5,
     "metadata": {},
     "output_type": "execute_result"
    },
    {
     "data": {
      "image/png": "[encoded data removed]",
      "text/plain": [
       "<Figure size 432x288 with 1 Axes>"
      ]
     },
     "metadata": {
      "needs_background": "light"
     },
     "output_type": "display_data"
    }
   ],
   "source": [
    "x = data.label.value_counts()\n",
    "sns.barplot(x.index,x)\n",
    "plt.gca().set_ylabel(\"Num Samples\")\n",
    "plt.gca().set_xlabel(\"Not Onion (0), Onion (1)\")"
   ]
  },
  {
   "cell_type": "markdown",
   "metadata": {},
   "source": [
    "# Part 2: Preparing Data"
   ]
  },
  {
   "cell_type": "markdown",
   "metadata": {},
   "source": [
    "## Converting Text"
   ]
  },
  {
   "cell_type": "code",
   "execution_count": 6,
   "metadata": {
    "scrolled": false
   },
   "outputs": [
    {
     "data": {
      "text/plain": [
       "'Bold Move: Hulu Has Announced That They’re Gonna Go Ahead And Reboot ‘Shrill’ While It’s Still On Since You Idiots Will Watch Anything'"
      ]
     },
     "metadata": {},
     "output_type": "display_data"
    },
    {
     "data": {
      "text/plain": [
       "'bold move  hulu has announced that theyre gonna go ahead and reboot  shrill while its still on since you idiots will watch anything'"
      ]
     },
     "metadata": {},
     "output_type": "display_data"
    }
   ],
   "source": [
    "p_data = data.copy()\n",
    "# to lower case\n",
    "p_data[\"text\"] = p_data['text'].str.lower()\n",
    "\n",
    "# remove ', so you're becomes youre\n",
    "p_data[\"text\"] = p_data[\"text\"].str.replace(r'[’]', '')\n",
    "# remove punctuation\n",
    "p_data[\"text\"] = p_data[\"text\"].str.replace('[^a-zA-Z]', ' ')\n",
    "\n",
    "# better accuracy then\n",
    "# p_data['text'] = p_data['text'].str.replace(r'&amp;', 'and')\n",
    "# p_data['text'] = p_data['text'].str.replace(r'-', ' ')\n",
    "# p_data['text'] = p_data['text'].str.replace(r'[^\\s\\w]','')\n",
    "\n",
    "# comparison test\n",
    "display(data['text'][2])\n",
    "display(p_data['text'][2])"
   ]
  },
  {
   "cell_type": "markdown",
   "metadata": {},
   "source": [
    "## All words in training data"
   ]
  },
  {
   "cell_type": "code",
   "execution_count": 7,
   "metadata": {},
   "outputs": [],
   "source": [
    "vocab_set = set()\n",
    "sentence_lengths = []\n",
    "\n",
    "for i in range(len(p_data)):\n",
    "    sentence_words = re.split(r'\\s',p_data.iloc[i]['text'])\n",
    "    vocab_set.update(sentence_words)\n",
    "    sentence_lengths.append(len(sentence_words))"
   ]
  },
  {
   "cell_type": "markdown",
   "metadata": {},
   "source": [
    "## Tokenization"
   ]
  },
  {
   "cell_type": "code",
   "execution_count": 8,
   "metadata": {},
   "outputs": [
    {
     "data": {
      "text/plain": [
       "0        entire facebook staff laughs as man tightens p...\n",
       "1        muslim woman denied soda can for fear she coul...\n",
       "2        bold move  hulu has announced that theyre gonn...\n",
       "3        despondent jeff bezos realizes hell have to wo...\n",
       "4        for men looking for great single women  online...\n",
       "                               ...                        \n",
       "23995    teen pregnancy rate prompting more high school...\n",
       "23996    connecticut tv station under fire after using ...\n",
       "23997     jurisprudence fetishist gets off on technicality\n",
       "23998    employees from other department announce plan ...\n",
       "23999          police drone crashes into police swat team \n",
       "Name: text, Length: 24000, dtype: object"
      ]
     },
     "execution_count": 8,
     "metadata": {},
     "output_type": "execute_result"
    }
   ],
   "source": [
    "num_words = len(vocab_set)+1\n",
    "max_len = 150\n",
    "\n",
    "frame = p_data[\"text\"]\n",
    "\n",
    "frame"
   ]
  },
  {
   "cell_type": "code",
   "execution_count": 9,
   "metadata": {},
   "outputs": [],
   "source": [
    "token = Tokenizer(num_words = num_words)\n",
    "token.fit_on_texts(list(frame))"
   ]
  },
  {
   "cell_type": "code",
   "execution_count": 10,
   "metadata": {},
   "outputs": [],
   "source": [
    "tokenized = token.texts_to_sequences(frame)"
   ]
  },
  {
   "cell_type": "markdown",
   "metadata": {},
   "source": [
    "## Comparison"
   ]
  },
  {
   "cell_type": "code",
   "execution_count": 11,
   "metadata": {},
   "outputs": [
    {
     "data": {
      "text/plain": [
       "'Bold Move: Hulu Has Announced That They’re Gonna Go Ahead And Reboot ‘Shrill’ While It’s Still On Since You Idiots Will Watch Anything'"
      ]
     },
     "metadata": {},
     "output_type": "display_data"
    },
    {
     "data": {
      "text/plain": [
       "'bold move  hulu has announced that theyre gonna go ahead and reboot  shrill while its still on since you idiots will watch anything'"
      ]
     },
     "metadata": {},
     "output_type": "display_data"
    },
    {
     "data": {
      "text/plain": [
       "[2429,\n",
       " 976,\n",
       " 6389,\n",
       " 31,\n",
       " 513,\n",
       " 19,\n",
       " 603,\n",
       " 3462,\n",
       " 140,\n",
       " 1424,\n",
       " 11,\n",
       " 4262,\n",
       " 14274,\n",
       " 106,\n",
       " 61,\n",
       " 127,\n",
       " 7,\n",
       " 632,\n",
       " 29,\n",
       " 4263,\n",
       " 52,\n",
       " 311,\n",
       " 668]"
      ]
     },
     "metadata": {},
     "output_type": "display_data"
    }
   ],
   "source": [
    "display(data['text'][2])\n",
    "display(p_data['text'][2])\n",
    "display(tokenized[2])"
   ]
  },
  {
   "cell_type": "markdown",
   "metadata": {},
   "source": [
    "## Prepare for model"
   ]
  },
  {
   "cell_type": "code",
   "execution_count": 12,
   "metadata": {},
   "outputs": [],
   "source": [
    "lstmX = sequence.pad_sequences(tokenized, maxlen = max_len)\n",
    "dummies = pd.get_dummies(p_data['label'])\n",
    "lstmY = dummies.values"
   ]
  },
  {
   "cell_type": "markdown",
   "metadata": {},
   "source": [
    "# Part 3: LSTM Model"
   ]
  },
  {
   "cell_type": "code",
   "execution_count": 13,
   "metadata": {},
   "outputs": [],
   "source": [
    "x_train, x_test, y_train, y_test = train_test_split(lstmX, lstmY, test_size = 0.1, random_state = 42)"
   ]
  },
  {
   "cell_type": "code",
   "execution_count": 14,
   "metadata": {},
   "outputs": [],
   "source": [
    "def model():\n",
    "    emb_size = 128\n",
    "    \n",
    "    inp = Input(shape = (max_len, ))\n",
    "    layer = Embedding(num_words, emb_size)(inp)\n",
    "    layer = Bidirectional(LSTM(64, return_sequences = True))(layer)\n",
    "    \n",
    "    layer = GlobalMaxPool1D()(layer)\n",
    "    layer = Dropout(0.5)(layer)\n",
    "    \n",
    "    layer = Dense(64, activation = 'relu')(layer)\n",
    "    layer = Dropout(0.5)(layer)\n",
    "    \n",
    "    layer = Dense(2, activation = 'softmax')(layer)\n",
    "    model = Model(inputs = inp, outputs = layer)\n",
    "    \n",
    "    model.compile(loss = 'binary_crossentropy', optimizer = 'nadam', metrics=['accuracy'])\n",
    "    return model"
   ]
  },
  {
   "cell_type": "code",
   "execution_count": 15,
   "metadata": {},
   "outputs": [
    {
     "name": "stdout",
     "output_type": "stream",
     "text": [
      "Model: \"model_1\"\n",
      "_________________________________________________________________\n",
      "Layer (type)                 Output Shape              Param #   \n",
      "=================================================================\n",
      "input_1 (InputLayer)         (None, 150)               0         \n",
      "_________________________________________________________________\n",
      "embedding_1 (Embedding)      (None, 150, 128)          3105664   \n",
      "_________________________________________________________________\n",
      "bidirectional_1 (Bidirection (None, 150, 128)          98816     \n",
      "_________________________________________________________________\n",
      "global_max_pooling1d_1 (Glob (None, 128)               0         \n",
      "_________________________________________________________________\n",
      "dropout_1 (Dropout)          (None, 128)               0         \n",
      "_________________________________________________________________\n",
      "dense_1 (Dense)              (None, 64)                8256      \n",
      "_________________________________________________________________\n",
      "dropout_2 (Dropout)          (None, 64)                0         \n",
      "_________________________________________________________________\n",
      "dense_2 (Dense)              (None, 2)                 130       \n",
      "=================================================================\n",
      "Total params: 3,212,866\n",
      "Trainable params: 3,212,866\n",
      "Non-trainable params: 0\n",
      "_________________________________________________________________\n"
     ]
    }
   ],
   "source": [
    "modl = model()\n",
    "modl.summary()"
   ]
  },
  {
   "cell_type": "code",
   "execution_count": 16,
   "metadata": {},
   "outputs": [
    {
     "name": "stderr",
     "output_type": "stream",
     "text": [
      "C:\\Users\\dakot\\Anaconda3\\lib\\site-packages\\tensorflow_core\\python\\framework\\indexed_slices.py:433: UserWarning: Converting sparse IndexedSlices to a dense Tensor of unknown shape. This may consume a large amount of memory.\n",
      "  \"Converting sparse IndexedSlices to a dense Tensor of unknown shape. \"\n"
     ]
    },
    {
     "name": "stdout",
     "output_type": "stream",
     "text": [
      "Train on 17280 samples, validate on 4320 samples\n",
      "Epoch 1/3\n",
      "17280/17280 [==============================] - 180s 10ms/step - loss: 0.4372 - accuracy: 0.7963 - val_loss: 0.3458 - val_accuracy: 0.8475\n",
      "Epoch 2/3\n",
      "17280/17280 [==============================] - 188s 11ms/step - loss: 0.1828 - accuracy: 0.9315 - val_loss: 0.3984 - val_accuracy: 0.8488\n",
      "Epoch 3/3\n",
      "17280/17280 [==============================] - 185s 11ms/step - loss: 0.0772 - accuracy: 0.9730 - val_loss: 0.5751 - val_accuracy: 0.8373\n"
     ]
    }
   ],
   "source": [
    "history = modl.fit(x_train, y_train, batch_size = 32, epochs = 3, validation_split = 0.2)"
   ]
  },
  {
   "cell_type": "markdown",
   "metadata": {},
   "source": [
    "# Part 4: Results"
   ]
  },
  {
   "cell_type": "code",
   "execution_count": 17,
   "metadata": {},
   "outputs": [
    {
     "name": "stdout",
     "output_type": "stream",
     "text": [
      "validation loss:  0.5751299690317224\n",
      "training loss:  0.07720565727989499\n"
     ]
    }
   ],
   "source": [
    "val_loss = history.history['val_loss']\n",
    "print('validation loss: ', val_loss[-1])\n",
    "\n",
    "training_loss = history.history['loss']\n",
    "print('training loss: ', training_loss[-1])"
   ]
  },
  {
   "cell_type": "code",
   "execution_count": 18,
   "metadata": {},
   "outputs": [
    {
     "name": "stdout",
     "output_type": "stream",
     "text": [
      "2400/2400 [==============================] - 4s 2ms/step\n",
      "['loss', 'accuracy']\n",
      "[0.4882003184159597, 0.8500000238418579]\n",
      "test loss:  0.4882003184159597\n",
      "test accuracy:  0.8500000238418579\n"
     ]
    }
   ],
   "source": [
    "score = modl.evaluate(x_test, y_test)\n",
    "print(modl.metrics_names)\n",
    "print(score)\n",
    "print('test loss: ', score[0])\n",
    "print('test accuracy: ', score[1])"
   ]
  },
  {
   "cell_type": "markdown",
   "metadata": {},
   "source": [
    "Slightly smaller accuracy then https://www.kaggle.com/salmanhiro/onn-onion-neural-network-with-lstm-85-accuracy, smaller loss. However, commenting out \"p_data[\"text\"] = p_data[\"text\"].str.replace(r'[’]', '')\" will make it so the accuracies are the same (loss will be still be smaller). I contend that leaving that line makes more sense as a word like they're should be tokenized as theyre not as two tokens of they and re which would match with re in you're."
   ]
  },
  {
   "cell_type": "code",
   "execution_count": 19,
   "metadata": {},
   "outputs": [
    {
     "data": {
      "text/plain": [
       "{'val_loss': [0.34581765951933685, 0.39840785104919363, 0.5751299690317224],\n",
       " 'val_accuracy': [0.8474537134170532, 0.8488426208496094, 0.8372685313224792],\n",
       " 'loss': [0.43716909590142744, 0.18277856862965833, 0.07720565727989499],\n",
       " 'accuracy': [0.7962963, 0.9314815, 0.97297454]}"
      ]
     },
     "execution_count": 19,
     "metadata": {},
     "output_type": "execute_result"
    }
   ],
   "source": [
    "history.history"
   ]
  },
  {
   "cell_type": "code",
   "execution_count": null,
   "metadata": {},
   "outputs": [],
   "source": []
  }
 ],
 "metadata": {
  "kernelspec": {
   "display_name": "Python 3",
   "language": "python",
   "name": "python3"
  },
  "language_info": {
   "codemirror_mode": {
    "name": "ipython",
    "version": 3
   },
   "file_extension": ".py",
   "mimetype": "text/x-python",
   "name": "python",
   "nbconvert_exporter": "python",
   "pygments_lexer": "ipython3",
   "version": "3.7.4"
  }
 },
 "nbformat": 4,
 "nbformat_minor": 2
}
